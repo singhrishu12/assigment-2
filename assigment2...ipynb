{
 "cells": [
  {
   "cell_type": "code",
   "execution_count": 1,
   "id": "5835c466-2dad-417b-bd24-14e525bad88d",
   "metadata": {},
   "outputs": [
    {
     "name": "stdout",
     "output_type": "stream",
     "text": [
      "Integer:  23\n",
      "Floating point:  23.0\n"
     ]
    }
   ],
   "source": [
    "integer_number = 23\n",
    "floating_point_number = float(integer_number)\n",
    "\n",
    "print('Integer: ',integer_number)\n",
    "print('Floating point: ',floating_point_number)"
   ]
  },
  {
   "cell_type": "code",
   "execution_count": 2,
   "id": "17dec6e0-2ba9-47db-9e99-82bb58523c2a",
   "metadata": {},
   "outputs": [
    {
     "name": "stdout",
     "output_type": "stream",
     "text": [
      "Floating point:  53.0\n",
      "Integer:  23\n"
     ]
    }
   ],
   "source": [
    "floating_point_number= 53.0\n",
    "integer_number= int(integer_number)\n",
    "\n",
    "print('Floating point: ',floating_point_number)\n",
    "print('Integer: ',integer_number)"
   ]
  },
  {
   "cell_type": "code",
   "execution_count": 3,
   "id": "692f110b-3225-4b40-8290-ad6893dc5139",
   "metadata": {},
   "outputs": [
    {
     "name": "stdout",
     "output_type": "stream",
     "text": [
      "Integer:  53\n",
      "String:  53\n"
     ]
    }
   ],
   "source": [
    "integer_number = 53\n",
    "string=str(integer_number)\n",
    "\n",
    "print('Integer: ',integer_number)\n",
    "print('String: ',string)"
   ]
  },
  {
   "cell_type": "code",
   "execution_count": 4,
   "id": "6def3dcd-33b3-4c65-ba66-80220556e109",
   "metadata": {},
   "outputs": [
    {
     "name": "stdout",
     "output_type": "stream",
     "text": [
      "List:  [24, 35.0, 'rishu', True]\n",
      "Tuple:  (24, 35.0, 'rishu', True)\n"
     ]
    }
   ],
   "source": [
    "list_name=[24,35.0,'rishu',True]\n",
    "Tuple_name=tuple(list_name)\n",
    "\n",
    "print('List: ',list_name)\n",
    "print('Tuple: ',Tuple_name)"
   ]
  },
  {
   "cell_type": "code",
   "execution_count": 5,
   "id": "da54be12-a68a-4887-8aec-bda7d6773b0a",
   "metadata": {},
   "outputs": [
    {
     "name": "stdout",
     "output_type": "stream",
     "text": [
      "Tuple:  (62, 65.0, 'rishu', True)\n",
      "List:  [24, 35.0, 'rishu', True]\n"
     ]
    }
   ],
   "source": [
    "Tuple_name1=(62,65.0,'rishu',True)\n",
    "list_name1=list(Tuple_name)\n",
    "\n",
    "print('Tuple: ',Tuple_name1)\n",
    "print('List: ',list_name1)"
   ]
  },
  {
   "cell_type": "code",
   "execution_count": null,
   "id": "903c79e8-0649-48e7-9210-c9e60e8ca92f",
   "metadata": {},
   "outputs": [],
   "source": [
    "decimal_number= \n",
    "binary_representation= bin(decimal_number)\n",
    "\n",
    "print('Decimal: ',decimal_number)\n",
    "print('Binary: ',binary_representation)"
   ]
  }
 ],
 "metadata": {
  "kernelspec": {
   "display_name": "Python 3 (ipykernel)",
   "language": "python",
   "name": "python3"
  },
  "language_info": {
   "codemirror_mode": {
    "name": "ipython",
    "version": 3
   },
   "file_extension": ".py",
   "mimetype": "text/x-python",
   "name": "python",
   "nbconvert_exporter": "python",
   "pygments_lexer": "ipython3",
   "version": "3.10.8"
  }
 },
 "nbformat": 4,
 "nbformat_minor": 5
}
